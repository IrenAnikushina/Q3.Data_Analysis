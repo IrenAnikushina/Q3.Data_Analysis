{
 "cells": [
  {
   "cell_type": "code",
   "execution_count": 1,
   "metadata": {
    "colab": {},
    "colab_type": "code",
    "id": "_u5bV-OlT34p"
   },
   "outputs": [],
   "source": [
    "import numpy as np\n",
    "import matplotlib.pyplot as plt\n",
    "from tqdm import tqdm\n",
    "import warnings\n",
    "warnings.filterwarnings('ignore')"
   ]
  },
  {
   "cell_type": "markdown",
   "metadata": {},
   "source": [
    "## 1. Постройте график зависимости весов всех признаков от lambda в самописной L2-регуляризации (на данных про ЕГЭ). Сделайте вывод."
   ]
  },
  {
   "cell_type": "code",
   "execution_count": 2,
   "metadata": {
    "colab": {},
    "colab_type": "code",
    "id": "_n6il-AZaLuA"
   },
   "outputs": [],
   "source": [
    "X = np.array([[   1,    1,  500,    1],\n",
    "              [   1,    1,  700,    1],\n",
    "              [   1,    2,  750,    2],\n",
    "              [   1,    5,  600,    1],\n",
    "              [   1,    3, 1450,    2],\n",
    "              [   1,    0,  800,    1],\n",
    "              [   1,    5, 1500,    3],\n",
    "              [   1,   10, 2000,    3],\n",
    "              [   1,    1,  450,    1],\n",
    "              [   1,    2, 1000,    2]])"
   ]
  },
  {
   "cell_type": "code",
   "execution_count": 3,
   "metadata": {
    "colab": {},
    "colab_type": "code",
    "id": "x8yoci01ni-t"
   },
   "outputs": [],
   "source": [
    "y = [45, 55, 50, 55, 60, 35, 75, 80, 50, 60]"
   ]
  },
  {
   "cell_type": "code",
   "execution_count": 4,
   "metadata": {},
   "outputs": [],
   "source": [
    "#Очевидно, что данные необходимо масштабировать. \n",
    "#На уроке разобрались, что для данной выборки эффективней стандартизация\n",
    "\n",
    "def standard_scale(X):\n",
    "    mean = X.mean(axis=0)\n",
    "    std = X.std(axis=0)\n",
    "    return (X - mean) / std"
   ]
  },
  {
   "cell_type": "code",
   "execution_count": 5,
   "metadata": {},
   "outputs": [
    {
     "data": {
      "text/plain": [
       "array([[ 1.        , -0.70710678, -0.97958969, -0.89625816],\n",
       "       [ 1.        , -0.70710678, -0.56713087, -0.89625816],\n",
       "       [ 1.        , -0.35355339, -0.46401617,  0.38411064],\n",
       "       [ 1.        ,  0.70710678, -0.77336028, -0.89625816],\n",
       "       [ 1.        ,  0.        ,  0.97958969,  0.38411064],\n",
       "       [ 1.        , -1.06066017, -0.36090146, -0.89625816],\n",
       "       [ 1.        ,  0.70710678,  1.08270439,  1.66447944],\n",
       "       [ 1.        ,  2.47487373,  2.11385144,  1.66447944],\n",
       "       [ 1.        , -0.70710678, -1.08270439, -0.89625816],\n",
       "       [ 1.        , -0.35355339,  0.05155735,  0.38411064]])"
      ]
     },
     "execution_count": 5,
     "metadata": {},
     "output_type": "execute_result"
    }
   ],
   "source": [
    "X_st = X.copy().astype(np.float64) #тип float чтоб не потерять значения после запятой в результате масштабирования\n",
    "\n",
    "X_st[:, 1] = standard_scale(X_st[:, 1])\n",
    "X_st[:, 2] = standard_scale(X_st[:, 2])\n",
    "X_st[:, 3] = standard_scale(X_st[:, 3])\n",
    "\n",
    "X_st"
   ]
  },
  {
   "cell_type": "code",
   "execution_count": 6,
   "metadata": {},
   "outputs": [
    {
     "name": "stdout",
     "output_type": "stream",
     "text": [
      "4.4408920985006264e-17\n",
      "1.0\n"
     ]
    },
    {
     "data": {
      "image/png": "[encoded data removed]",
      "text/plain": [
       "<Figure size 432x288 with 1 Axes>"
      ]
     },
     "metadata": {
      "needs_background": "light"
     },
     "output_type": "display_data"
    }
   ],
   "source": [
    "print(np.mean(X_st[:, 1]))\n",
    "print(np.std(X_st[:, 1]))\n",
    "\n",
    "plt.hist(X_st[:, 1])\n",
    "plt.show()"
   ]
  },
  {
   "cell_type": "code",
   "execution_count": 7,
   "metadata": {},
   "outputs": [
    {
     "name": "stdout",
     "output_type": "stream",
     "text": [
      "-4.163336342344337e-17\n",
      "0.9999999999999999\n"
     ]
    },
    {
     "data": {
      "image/png": "[encoded data removed]",
      "text/plain": [
       "<Figure size 432x288 with 1 Axes>"
      ]
     },
     "metadata": {
      "needs_background": "light"
     },
     "output_type": "display_data"
    }
   ],
   "source": [
    "print(np.mean(X_st[:, 2]))\n",
    "print(np.std(X_st[:, 2]))\n",
    "\n",
    "plt.hist(X_st[:, 2])\n",
    "plt.show()"
   ]
  },
  {
   "cell_type": "code",
   "execution_count": 8,
   "metadata": {},
   "outputs": [],
   "source": [
    "#после масштабирования можно приступать к L2 регуляризации"
   ]
  },
  {
   "cell_type": "code",
   "execution_count": 9,
   "metadata": {},
   "outputs": [],
   "source": [
    "def calc_mse(y, y_pred):\n",
    "    err = np.mean((y - y_pred)**2)\n",
    "    return err"
   ]
  },
  {
   "cell_type": "code",
   "execution_count": 14,
   "metadata": {},
   "outputs": [],
   "source": [
    "def gradient_descent_reg_l2(X, y, iterations, eta=1e-4, reg=1e-8):\n",
    "    W = np.random.randn(X.shape[1])\n",
    "    n = X.shape[0]\n",
    "    \n",
    "    for i in range(0, iterations):\n",
    "        y_pred = np.dot(X, W)\n",
    "        err = calc_mse(y, y_pred)\n",
    "        \n",
    "        dQ = 2/n * X.T @ (y_pred - y) # градиент функции ошибки\n",
    "        dReg = reg * W # градиент регуляризации\n",
    "        \n",
    "        W -= eta * dQ + dReg #дополнительное слагаемое\n",
    "        \n",
    "        #три строчки закомментила, чтоб не выводились при построении графика ниже\n",
    "        #if i % (iterations / 10) == 0:                                  \n",
    "            #print(f'Iter: {i}, weights: {W}, error {err}')\n",
    "\n",
    "    #print(f'Final MSE: {calc_mse(y, np.dot(X, W))}')\n",
    "    return W"
   ]
  },
  {
   "cell_type": "code",
   "execution_count": 15,
   "metadata": {},
   "outputs": [
    {
     "name": "stdout",
     "output_type": "stream",
     "text": [
      "Iter: 0, weights: [0.44072835 0.96257825 0.01135226 0.78155844], error 3408.2030089796617\n",
      "Iter: 500, weights: [56.21673105  5.92987184  1.02914821  5.48658891], error 25.318884358449118\n",
      "Iter: 1000, weights: [56.21890539  6.14452025  0.23872773  6.09047924], error 25.04684004743756\n",
      "Iter: 1500, weights: [ 5.62189055e+01  6.20200929e+00 -2.68489372e-02  6.30732374e+00], error 25.003567785508736\n",
      "Iter: 2000, weights: [56.21890547  6.22091239 -0.11752492  6.38205224], error 24.994465414715094\n",
      "Iter: 2500, weights: [56.21890547  6.22734602 -0.14855605  6.40765954], error 24.992017338036042\n",
      "Iter: 3000, weights: [56.21890547  6.22954673 -0.15917901  6.41642739], error 24.99125748546356\n",
      "Iter: 3500, weights: [56.21890547  6.23030006 -0.16281576  6.41942913], error 24.99100651739522\n",
      "Iter: 4000, weights: [56.21890547  6.23055796 -0.16406081  6.42045678], error 24.99092167262282\n",
      "Iter: 4500, weights: [56.21890547  6.23064625 -0.16448705  6.4208086 ], error 24.990892751840423\n",
      "Final MSE: 24.990882865536186\n"
     ]
    },
    {
     "data": {
      "text/plain": [
       "array([56.21890547,  6.23067644, -0.16463281,  6.42092891])"
      ]
     },
     "execution_count": 15,
     "metadata": {},
     "output_type": "execute_result"
    }
   ],
   "source": [
    "gradient_descent_reg_l2(X_st, y, iterations=5000, eta=1e-2, reg=1e-4)"
   ]
  },
  {
   "cell_type": "code",
   "execution_count": 12,
   "metadata": {
    "scrolled": false
   },
   "outputs": [
    {
     "data": {
      "image/png": "[encoded data removed]",
      "text/plain": [
       "<Figure size 720x432 with 1 Axes>"
      ]
     },
     "metadata": {
      "needs_background": "light"
     },
     "output_type": "display_data"
    }
   ],
   "source": [
    "n = 10\n",
    "\n",
    "coeffs = np.zeros((n, X_st.shape[1]))\n",
    "lambda_list = np.logspace(-3, 2, n)\n",
    "\n",
    "\n",
    "for i, val in enumerate(lambda_list):\n",
    "    weights = gradient_descent_reg_l2(X_st, y, iterations=5000, eta=1e-2, reg=val)\n",
    "    coeffs[i, :] = weights\n",
    "\n",
    "\n",
    "plt.figure(figsize=(10, 6))\n",
    "for i in range(X_st.shape[1]):\n",
    "    plt.plot(lambda_list, coeffs[:, i])\n",
    "\n",
    "    \n",
    "plt.title('Убывание абсолютных значений весов признаков\\n при увеличении коэффициента регуляризации')\n",
    "plt.xlabel('lambda')\n",
    "plt.ylabel('Вес признака');"
   ]
  },
  {
   "cell_type": "markdown",
   "metadata": {},
   "source": [
    "## 2. Напишите функцию наподобие gradient_descent_reg_l2, но для применения L1-регуляризации.**"
   ]
  },
  {
   "cell_type": "code",
   "execution_count": 20,
   "metadata": {},
   "outputs": [],
   "source": [
    "#отличается от gradient_descent_reg_l2, тем, что берем производную от L1 для нахождение градиента регуляризации\n",
    "#посмотрела разбор нахождения производной модуля (\\х\\)' = x / \\х\\\n",
    "#в нашем случае производная L1 = np.sign(w)\n",
    "\n",
    "def gradient_descent_reg_l1(X, y, iterations, eta=1e-4, reg=1e-8):\n",
    "    W = np.random.randn(X.shape[1])\n",
    "    n = X.shape[0]\n",
    "    \n",
    "    for i in range(0, iterations):\n",
    "        y_pred = np.dot(X, W)\n",
    "        err = calc_mse(y, y_pred)\n",
    "        \n",
    "        dQ = 2/n * X.T @ (y_pred - y) # градиент функции ошибки\n",
    "        dReg = reg * np.sign(W) # градиент регуляризации\n",
    "        \n",
    "        W -= eta * dQ + dReg\n",
    "        \n",
    "        if i % (iterations / 10) == 0:\n",
    "            print(f'Iter: {i}, weights: {W}, error {err}')\n",
    "    \n",
    "    print(f'Final MSE: {calc_mse(y, np.dot(X, W))}')\n",
    "    return W"
   ]
  },
  {
   "cell_type": "code",
   "execution_count": 25,
   "metadata": {},
   "outputs": [
    {
     "name": "stdout",
     "output_type": "stream",
     "text": [
      "Iter: 0, weights: [ 2.38277211 -0.15634114 -0.39508947  0.07895278], error 3235.812843493489\n",
      "Iter: 500, weights: [56.4927801   5.93241833  1.05763996  5.47273045], error 25.24938309020029\n",
      "Iter: 1000, weights: [56.49499991  6.1927292   0.14425101  6.15888042], error 24.949063882156533\n",
      "Iter: 1500, weights: [56.495       6.25228033 -0.14575198  6.40267364], error 24.912384444520647\n",
      "Iter: 2000, weights: [56.495       6.271622   -0.24238941  6.48308136], error 24.906893295065835\n",
      "Iter: 2500, weights: [56.495       6.27880704 -0.27724334  6.51188251], error 24.905727009482952\n",
      "Iter: 3000, weights: [56.495       6.28140465 -0.28979231  6.52224203], error 24.90541229194535\n",
      "Iter: 3500, weights: [56.495       6.28234023 -0.29430938  6.52597048], error 24.90531263171249\n",
      "Iter: 4000, weights: [56.495       6.28267701 -0.29593528  6.52731249], error 24.905278524705825\n",
      "Iter: 4500, weights: [56.495       6.28279823 -0.2965205   6.52779553], error 24.905266476843412\n",
      "Final MSE: 24.905262169943406\n"
     ]
    },
    {
     "data": {
      "text/plain": [
       "array([56.495     ,  6.28284181, -0.29673091,  6.5279692 ])"
      ]
     },
     "execution_count": 25,
     "metadata": {},
     "output_type": "execute_result"
    }
   ],
   "source": [
    "gradient_descent_reg_l1(X_st, y, iterations=5000, eta=1e-2, reg=1e-4)"
   ]
  },
  {
   "cell_type": "markdown",
   "metadata": {},
   "source": [
    "## 3. *Можно ли к одному и тому же признаку применить сразу и нормализацию, и стандартизацию?**"
   ]
  },
  {
   "cell_type": "markdown",
   "metadata": {},
   "source": [
    "Можно. Мы это нагладно увидели на уроке в блоке с написанием ручного СГД.\n",
    "Для признаков сначала произвели стандатизацию, потом нормализацию.\n",
    "Опытным путем определили, что данные остаются отмасштабированы по тому методу, который применялся последним.\n",
    "Также экспериметально доказали, что результат каждого из методов не зависит от порядка проведения манипуляций и остается неизменным"
   ]
  },
  {
   "cell_type": "markdown",
   "metadata": {
    "id": "osNM_LLkiqu6"
   },
   "source": [
    "## 4. *Сгенерируйте датасет при помощи <code>sklearn.datasets.make_regression</code> и обучите линейную модель при помощи градиентного и стохастического градиентного спуска. Нанесите среднеквадратичную ошибку для обоих методов на один график, сделайте выводы о разнице скорости сходимости каждого из методов.**"
   ]
  },
  {
   "cell_type": "code",
   "execution_count": 61,
   "metadata": {},
   "outputs": [
    {
     "data": {
      "text/plain": [
       "array([[ 2.79991373, -0.23878848, -0.1616545 , ...,  0.13844999,\n",
       "        -0.3947617 , -0.70449625],\n",
       "       [ 0.50465858, -0.41874589,  0.94716092, ...,  0.81894855,\n",
       "         0.54858801, -1.08665009],\n",
       "       [-0.14185981,  0.33922013, -0.10050688, ...,  0.2576539 ,\n",
       "        -0.40157571, -0.45532256],\n",
       "       ...,\n",
       "       [ 0.23874126, -1.12870995,  0.87101784, ..., -0.83874975,\n",
       "        -0.4349091 ,  0.73131071],\n",
       "       [ 0.07155669, -1.17557635, -1.06548531, ..., -0.71275822,\n",
       "         0.3757582 ,  0.11763615],\n",
       "       [ 1.57965378,  0.09816231,  0.54527157, ..., -1.50588059,\n",
       "         0.23868286, -1.37290539]])"
      ]
     },
     "metadata": {},
     "output_type": "display_data"
    },
    {
     "data": {
      "text/plain": [
       "array([  32.51972903, -107.29380561,  197.05308783, ..., -318.12106876,\n",
       "       -259.8286481 ,  -18.5429747 ])"
      ]
     },
     "metadata": {},
     "output_type": "display_data"
    },
    {
     "data": {
      "text/plain": [
       "array([11.09304905, 91.14909711, 39.98668478, 90.70102586, 67.17039651,\n",
       "       43.30949683,  8.98836563, 24.05835053, 11.35058557, 19.15750707])"
      ]
     },
     "metadata": {},
     "output_type": "display_data"
    }
   ],
   "source": [
    "from sklearn import datasets\n",
    "#генерируем датасет при помощи datasets.make_regression c необходимыми параметрами\n",
    "X, Y, coef = datasets.make_regression(n_samples=10000, n_features=10, n_informative=10, n_targets=1, noise=5, coef=True, random_state=2)\n",
    "display(X, Y, coef)"
   ]
  },
  {
   "cell_type": "code",
   "execution_count": 62,
   "metadata": {},
   "outputs": [
    {
     "data": {
      "text/plain": [
       "(10000, 10)"
      ]
     },
     "execution_count": 62,
     "metadata": {},
     "output_type": "execute_result"
    }
   ],
   "source": [
    "X.shape"
   ]
  },
  {
   "cell_type": "code",
   "execution_count": 63,
   "metadata": {},
   "outputs": [
    {
     "data": {
      "text/plain": [
       "array([[ 2.48394937, -0.38694104, -0.31406677, ..., -0.0305355 ,\n",
       "        -0.53430066, -0.82693017],\n",
       "       [ 0.50465858, -0.41874589,  0.94716092, ...,  0.81894855,\n",
       "         0.54858801, -1.08665009],\n",
       "       [-0.14185981,  0.33922013, -0.10050688, ...,  0.2576539 ,\n",
       "        -0.40157571, -0.45532256],\n",
       "       ...,\n",
       "       [ 0.23874126, -1.12870995,  0.87101784, ..., -0.83874975,\n",
       "        -0.4349091 ,  0.73131071],\n",
       "       [ 0.07155669, -1.17557635, -1.06548531, ..., -0.71275822,\n",
       "         0.3757582 ,  0.11763615],\n",
       "       [ 1.57965378,  0.09816231,  0.54527157, ..., -1.50588059,\n",
       "         0.23868286, -1.37290539]])"
      ]
     },
     "execution_count": 63,
     "metadata": {},
     "output_type": "execute_result"
    }
   ],
   "source": [
    "def standard_scale(X):\n",
    "    mean = X.mean(axis=0)\n",
    "    std = X.std(axis=0)\n",
    "    return (X - mean) / std\n",
    "\n",
    "X[0, :] = standard_scale(X[0, :])\n",
    "\n",
    "X"
   ]
  },
  {
   "cell_type": "code",
   "execution_count": 64,
   "metadata": {},
   "outputs": [],
   "source": [
    "# SGD\n",
    "def stohastic_gradient_descent(X, Y, iterations, eta=1e-4, size=1):\n",
    "    W = np.random.randn(X.shape[1])\n",
    "    n = X.shape[0]\n",
    "    \n",
    "    errors = []\n",
    "    w_list = [W.copy()]\n",
    "    for i in range(0, iterations):\n",
    "        train_ind = np.random.randint(X.shape[0], size=size)\n",
    "\n",
    "        y_pred = np.dot(X[train_ind], W)\n",
    "        W = W - eta * 2 / Y[train_ind].shape[0] * np.dot(X[train_ind].T, y_pred - Y[train_ind])\n",
    "\n",
    "        error = calc_mse(Y, np.dot(X, W))\n",
    "        errors.append(error)\n",
    "        w_list.append(W)\n",
    "        \n",
    "        if i % (iterations / 10) == 0:\n",
    "            print(f'Iter: {i}, error {error}')\n",
    "    \n",
    "    print(f'Final MSE: {calc_mse(Y, np.dot(X, W))}')\n",
    "    return W, errors, w_list"
   ]
  },
  {
   "cell_type": "code",
   "execution_count": 65,
   "metadata": {},
   "outputs": [],
   "source": [
    "# GD\n",
    "def gradient_descent(X, y, iterations, eta=1e-4):\n",
    "    W = np.random.randn(X.shape[1])\n",
    "    n = X.shape[0]\n",
    "    \n",
    "    errors = []\n",
    "    w_list = [W.copy()]\n",
    "    for i in range(0, iterations):\n",
    "        y_pred = np.dot(X, W)\n",
    "        err = calc_mse(y, y_pred)\n",
    "        errors.append(err)\n",
    "        \n",
    "        dQ = 2/n * X.T @ (y_pred - y) # градиент функции ошибки\n",
    "        W -= (eta * dQ)\n",
    "        w_list.append(W.copy())\n",
    "        \n",
    "        if i % (iterations / 10) == 0:\n",
    "            print(f'Iter: {i}, error {err}')\n",
    "        \n",
    "    print(f'Final MSE: {calc_mse(y, np.dot(X, W))}')\n",
    "    return W, errors, w_list"
   ]
  },
  {
   "cell_type": "code",
   "execution_count": 66,
   "metadata": {},
   "outputs": [
    {
     "name": "stdout",
     "output_type": "stream",
     "text": [
      "Iter: 0, error 26334.726697773982\n",
      "Iter: 500, error 3474.5154495326447\n",
      "Iter: 1000, error 478.2904207315703\n",
      "Iter: 1500, error 85.16763401995465\n",
      "Iter: 2000, error 33.53238837764756\n",
      "Iter: 2500, error 26.74295954127944\n",
      "Iter: 3000, error 25.849254912312613\n",
      "Iter: 3500, error 25.731485246087928\n",
      "Iter: 4000, error 25.715948626413905\n",
      "Iter: 4500, error 25.71389666896584\n",
      "Final MSE: 25.713625353810606\n",
      "Wall time: 3.95 s\n"
     ]
    }
   ],
   "source": [
    "%%time \n",
    "weights_GD, errors_GD, w_list_GD = gradient_descent(X, Y, iterations=5000, eta=1e-3) \n",
    "#отчет о времени, которое потрачено на выполнение\n",
    "#сохраняем значения, которые возвращает функция в переменные"
   ]
  },
  {
   "cell_type": "code",
   "execution_count": 67,
   "metadata": {},
   "outputs": [
    {
     "name": "stdout",
     "output_type": "stream",
     "text": [
      "Iter: 0, error 26562.648514899352\n",
      "Iter: 500, error 3459.428036039506\n",
      "Iter: 1000, error 546.3640778902477\n",
      "Iter: 1500, error 94.87242355272265\n",
      "Iter: 2000, error 34.16116884377604\n",
      "Iter: 2500, error 26.995393368717526\n",
      "Iter: 3000, error 26.175015731068683\n",
      "Iter: 3500, error 25.90925874973284\n",
      "Iter: 4000, error 26.105461766025808\n",
      "Iter: 4500, error 25.828435253615673\n",
      "Final MSE: 25.98601232097632\n",
      "Wall time: 2.52 s\n"
     ]
    }
   ],
   "source": [
    "%%time\n",
    "weights_SGD, errors_SGD, w_list_SGD = stohastic_gradient_descent(X, Y, iterations=5000, eta=1e-3)\n",
    "#отчет о времени, которое потрачено на выполнение\n",
    "#сохраняем значения, которые возвращает функция в переменные"
   ]
  },
  {
   "cell_type": "code",
   "execution_count": 82,
   "metadata": {},
   "outputs": [],
   "source": [
    "#SGD справилась быстрее, MSE чуть больше"
   ]
  },
  {
   "cell_type": "code",
   "execution_count": 78,
   "metadata": {},
   "outputs": [
    {
     "data": {
      "image/png": "[encoded data removed]",
      "text/plain": [
       "<Figure size 432x288 with 1 Axes>"
      ]
     },
     "metadata": {
      "needs_background": "light"
     },
     "output_type": "display_data"
    }
   ],
   "source": [
    "plt.plot(range(len(errors_GD)), errors_GD, color='b', label='GD') # изменение функционала ошибки GD\n",
    "plt.plot(range(len(errors_SGD)), errors_SGD, color='g', label='SGD') # изменение функционала ошибки SGD\n",
    "\n",
    "plt.title('MSE')\n",
    "plt.xlabel('Iteration number')\n",
    "plt.ylabel('MSE')\n",
    "plt.xlim(0, 1000)\n",
    "plt.legend();"
   ]
  },
  {
   "cell_type": "code",
   "execution_count": 79,
   "metadata": {},
   "outputs": [],
   "source": [
    "#сохраняем изменения весеов в архив для построения графика\n",
    "weights_GD = np.array(w_list_GD)\n",
    "weights_SGD = np.array(w_list_SGD)"
   ]
  },
  {
   "cell_type": "code",
   "execution_count": 81,
   "metadata": {},
   "outputs": [
    {
     "data": {
      "image/png": "[encoded data removed]",
      "text/plain": [
       "<Figure size 936x432 with 1 Axes>"
      ]
     },
     "metadata": {
      "needs_background": "light"
     },
     "output_type": "display_data"
    }
   ],
   "source": [
    "#визуализируем изменение весов\n",
    "#красная точка - истинный вес\n",
    "plt.figure(figsize=(13, 6))\n",
    "plt.title('Compare SGD and GD')\n",
    "plt.xlabel(r'$w_1$')\n",
    "plt.ylabel(r'$w_2$')\n",
    "\n",
    "\n",
    "plt.plot(weights_GD[:, 0], weights_GD[:, 1], color='b', label='GD')\n",
    "plt.plot(weights_SGD[:, 0], weights_SGD[:, 1], color='g', label='SGD')\n",
    "plt.scatter(coef[0], coef[1], c='r', label='Target')\n",
    "\n",
    "plt.legend()\n",
    "plt.show()"
   ]
  }
 ],
 "metadata": {
  "kernelspec": {
   "display_name": "Python 3",
   "language": "python",
   "name": "python3"
  },
  "language_info": {
   "codemirror_mode": {
    "name": "ipython",
    "version": 3
   },
   "file_extension": ".py",
   "mimetype": "text/x-python",
   "name": "python",
   "nbconvert_exporter": "python",
   "pygments_lexer": "ipython3",
   "version": "3.8.3"
  }
 },
 "nbformat": 4,
 "nbformat_minor": 2
}
