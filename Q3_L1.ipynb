{
 "cells": [
  {
   "cell_type": "markdown",
   "metadata": {},
   "source": [
    "# Урок 1. Алгоритм линейной регрессии. Градиентный спуск\n"
   ]
  },
  {
   "cell_type": "code",
   "execution_count": 50,
   "metadata": {},
   "outputs": [],
   "source": [
    "import numpy as np\n",
    "import matplotlib.pyplot as plt\n",
    "import warnings\n",
    "warnings.filterwarnings('ignore')"
   ]
  },
  {
   "cell_type": "markdown",
   "metadata": {},
   "source": [
    "### 1. Подберите скорость обучения (eta) и количество итераций"
   ]
  },
  {
   "cell_type": "markdown",
   "metadata": {},
   "source": [
    "Задача: предсказание баллов ЕГЭ ученика в зависимости от кол-ва лет стажа его репетитора"
   ]
  },
  {
   "cell_type": "code",
   "execution_count": 3,
   "metadata": {},
   "outputs": [],
   "source": [
    "# 1 - константный признак (нужен для нулевого веса, для сдвига)\n",
    "X = np.array([[ 1,  1],\n",
    "              [ 1,  1],\n",
    "              [ 1,  2],\n",
    "              [ 1,  5],\n",
    "              [ 1,  3],\n",
    "              [ 1,  0],\n",
    "              [ 1,  5],\n",
    "              [ 1, 10],\n",
    "              [ 1,  1],\n",
    "              [ 1,  2]])"
   ]
  },
  {
   "cell_type": "code",
   "execution_count": 4,
   "metadata": {},
   "outputs": [
    {
     "data": {
      "text/plain": [
       "(10, 2)"
      ]
     },
     "execution_count": 4,
     "metadata": {},
     "output_type": "execute_result"
    }
   ],
   "source": [
    "X.shape"
   ]
  },
  {
   "cell_type": "code",
   "execution_count": 5,
   "metadata": {},
   "outputs": [],
   "source": [
    "# целевая переменная\n",
    "y = [45, 55, 50, 55, 60, 35, 75, 80, 50, 60]"
   ]
  },
  {
   "cell_type": "code",
   "execution_count": 12,
   "metadata": {},
   "outputs": [
    {
     "data": {
      "text/plain": [
       "Text(0, 0.5, 'Баллы')"
      ]
     },
     "execution_count": 12,
     "metadata": {},
     "output_type": "execute_result"
    },
    {
     "data": {
      "image/png": "[encoded data removed]",
      "text/plain": [
       "<Figure size 432x288 with 1 Axes>"
      ]
     },
     "metadata": {
      "needs_background": "light"
     },
     "output_type": "display_data"
    }
   ],
   "source": [
    "#зависимость целевой переменной от признака\n",
    "plt.scatter(X[:, 1], y)\n",
    "plt.xlabel('Стаж репетитора')\n",
    "plt.ylabel('Баллы')"
   ]
  },
  {
   "cell_type": "code",
   "execution_count": 45,
   "metadata": {},
   "outputs": [],
   "source": [
    "#среднеквадратическая ошибка\n",
    "\n",
    "def calc_mse(y, y_pred):\n",
    "    err = np.mean((y - y_pred)**2)\n",
    "    return err"
   ]
  },
  {
   "cell_type": "code",
   "execution_count": 48,
   "metadata": {},
   "outputs": [
    {
     "name": "stdout",
     "output_type": "stream",
     "text": [
      "Number of objects = 10\n"
     ]
    }
   ],
   "source": [
    "n = X.shape[0] #количество признаков\n",
    "print(f'Number of objects = {n}')"
   ]
  },
  {
   "cell_type": "code",
   "execution_count": 53,
   "metadata": {},
   "outputs": [
    {
     "name": "stdout",
     "output_type": "stream",
     "text": [
      "Лучшая ошибка -  43.968755589400445 при скорости обучения  0.1  и количестве итераций 10000\n"
     ]
    }
   ],
   "source": [
    "etas = [1, 1e-1, 1e-2, 1e-3, 1e-4] #варианты для проверки скорости обучения \n",
    "n_iters = [100, 250, 500, 750, 10000] #варианты для проверки количества итераций\n",
    "\n",
    "mse_err = np.inf\n",
    "best_result = {'eta', 'n_iter', 'mse'}\n",
    "\n",
    "for eta in etas:\n",
    "    for n_iter in n_iters:\n",
    "        W = np.array([0.5, 0.5]) #инициализация веса маленькими величинами\n",
    "        curr_eta = eta\n",
    "        \n",
    "        for i in range(n_iter): \n",
    "            y_pred = np.dot(X, W) #на каждой итерации смотрим предсказания\n",
    "            err = calc_mse(y, y_pred)  #вызов функции вычисления среднеквадратической ошибки\n",
    "            for k in range(W.shape[0]): #изменяем веса в цикле\n",
    "                W[k] -= curr_eta * (1/n * 2 * X[:, k] @ (y_pred - y)) #умножаем скорость обучения на градиент - оптимизация веса\n",
    "            if i % 10 == 0:\n",
    "                curr_eta /= 1.1 #спасает от расползания ошибки до бесконечности             \n",
    "                \n",
    "        if err < mse_err:\n",
    "            mse_err = err\n",
    "            best_result = {\n",
    "                'eta': eta,\n",
    "                'n_iter': n_iter,\n",
    "                'mse': mse_err\n",
    "            }\n",
    "print(f'Лучшая ошибка - ', best_result['mse'], 'при скорости обучения ', best_result['eta'], ' и количестве итераций', best_result['n_iter'])"
   ]
  },
  {
   "cell_type": "markdown",
   "metadata": {},
   "source": [
    "### 2*. В этом коде мы избавляемся от итераций по весам, но тут есть ошибка, исправьте ее"
   ]
  },
  {
   "cell_type": "markdown",
   "metadata": {},
   "source": [
    "Number of objects = 10        \n",
    "Learning rate = 0.01        \n",
    "Initial weights = [1.  0.5] \n",
    "\n",
    "## ошибка *************\n",
    "ValueError                                Traceback (most recent call last)\n",
    "<ipython-input-34-df00614f0fcc> in <module>\n",
    "     15 #         W[k] -= eta * (1/n * 2 * X[:, k] @ (y_pred - y))\n",
    "     16     # ИЗМЕНЕНИЯ\n",
    "---> 17     W -= eta * (1/n * 2 * np.dot(X, y_pred - y))\n",
    "     18     #\n",
    "     19     if i % 10 == 0:\n",
    "\n",
    "<__array_function__ internals> in dot(*args, **kwargs)\n",
    "\n",
    "ValueError: shapes (10,2) and (10,) not aligned: 2 (dim 1) != 10 (dim 0)  \n"
   ]
  },
  {
   "cell_type": "code",
   "execution_count": 58,
   "metadata": {},
   "outputs": [
    {
     "name": "stdout",
     "output_type": "stream",
     "text": [
      "Number of objects = 10        \n",
      "Learning rate = 0.01        \n",
      "Initial weights = [1.  0.5] \n",
      "\n",
      "Iteration #  0 : W_new =  [2.08 4.27] MSE =  3047.75\n",
      "Iteration #  10 : W_new =  [ 7.0011236 10.6169007] MSE =  738.65\n",
      "Iteration #  20 : W_new =  [10.3486292  10.10603105] MSE =  622.03\n",
      "Iteration #  30 : W_new =  [13.38789582  9.55618391] MSE =  525.24\n",
      "Iteration #  40 : W_new =  [16.16088505  9.05336203] MSE =  444.66\n",
      "Iteration #  50 : W_new =  [18.69110735  8.59454545] MSE =  377.58\n",
      "Iteration #  60 : W_new =  [20.99981865  8.17589626] MSE =  321.72\n",
      "Iteration #  70 : W_new =  [23.10641138  7.79389815] MSE =  275.22\n",
      "Iteration #  80 : W_new =  [25.02858024  7.44534246] MSE =  236.5\n",
      "Iteration #  90 : W_new =  [26.78247081  7.12730145] MSE =  204.27\n"
     ]
    }
   ],
   "source": [
    "n = X.shape[0]\n",
    "\n",
    "eta = 1e-2 \n",
    "n_iter = 100\n",
    "\n",
    "W = np.array([1, 0.5])\n",
    "print(f'Number of objects = {n} \\\n",
    "       \\nLearning rate = {eta} \\\n",
    "       \\nInitial weights = {W} \\n')\n",
    "\n",
    "for i in range(n_iter):\n",
    "    y_pred = np.dot(X, W)\n",
    "    err = calc_mse(y, y_pred)\n",
    "    #W -= eta * (1/n * 2 * np.dot(X, y_pred - y))\n",
    "    # ИЗМЕНЕНИЯ**************************\n",
    "    #из текста ошибки очевидно, что проблема возникла на этапе умножения матриц \n",
    "    #print(X.shape, (y_pred - y).shape)\n",
    "    #в данном случае умножение возвможно только после транспонирования матрицы Х, что уровняет количество столбцов\n",
    "    W -= eta * (1/n * 2 * np.dot(X.T, y_pred - y))    \n",
    "    if i % 10 == 0:\n",
    "        print(f'Iteration # ', i, ': W_new = ', W, 'MSE = ', round(err,2))\n"
   ]
  },
  {
   "cell_type": "markdown",
   "metadata": {},
   "source": [
    "### 3*. Вместо того, чтобы задавать количество итераций, задайте другое условие останова алгоритма - когда веса перестают изменяться меньше определенного порога  𝜖 ."
   ]
  },
  {
   "cell_type": "code",
   "execution_count": 66,
   "metadata": {},
   "outputs": [
    {
     "name": "stdout",
     "output_type": "stream",
     "text": [
      "Number of objects = 10        \n",
      "Learning rate = 0.01        \n",
      "Initial weights = [1.  0.5] \n",
      "\n",
      "Iteration #  0 : W_new =  [2.08 4.27] , MSE =  3047.75 , weight_dist =  3.921645062980585\n",
      "Iteration #  10 : W_new =  [ 7.0011236 10.6169007] , MSE =  738.65 , weight_dist =  0.35961884360415197\n",
      "Iteration #  20 : W_new =  [10.3486292  10.10603105] , MSE =  622.03 , weight_dist =  0.32471081577923866\n",
      "Iteration #  30 : W_new =  [13.38789582  9.55618391] , MSE =  525.24 , weight_dist =  0.2962830004514919\n",
      "Iteration #  40 : W_new =  [16.16088505  9.05336203] , MSE =  444.66 , weight_dist =  0.2703445935689536\n",
      "Iteration #  50 : W_new =  [18.69110735  8.59454545] , MSE =  377.58 , weight_dist =  0.24667699191438447\n",
      "Iteration #  60 : W_new =  [20.99981865  8.17589626] , MSE =  321.72 , weight_dist =  0.22508139532820182\n",
      "Iteration #  70 : W_new =  [23.10641138  7.79389815] , MSE =  275.22 , weight_dist =  0.2053764079483903\n",
      "Iteration #  80 : W_new =  [25.02858024  7.44534246] , MSE =  236.5 , weight_dist =  0.18739651440439867\n",
      "Iteration #  90 : W_new =  [26.78247081  7.12730145] , MSE =  204.27 , weight_dist =  0.17099068954279603\n",
      "Iteration #  100 : W_new =  [28.38281518  6.83710367] , MSE =  177.43 , weight_dist =  0.15602112986598138\n",
      "Iteration #  110 : W_new =  [29.84305573  6.57231156] , MSE =  155.08 , weight_dist =  0.14236209602842334\n",
      "Iteration #  120 : W_new =  [31.17545797  6.33070096] , MSE =  136.48 , weight_dist =  0.12989885666777493\n",
      "Iteration #  130 : W_new =  [32.39121367  6.11024241] , MSE =  120.99 , weight_dist =  0.11852672469943717\n",
      "Iteration #  140 : W_new =  [33.50053475  5.90908413] , MSE =  108.09 , weight_dist =  0.10815017797967075\n",
      "Iteration #  150 : W_new =  [34.51273915  5.72553647] , MSE =  97.36 , weight_dist =  0.0986820569512495\n",
      "Iteration #  160 : W_new =  [35.43632906  5.55805768] , MSE =  88.42 , weight_dist =  0.09004283253199422\n",
      "Iteration #  170 : W_new =  [36.27906231  5.405241  ] , MSE =  80.98 , weight_dist =  0.08215993809686005\n",
      "Iteration #  180 : W_new =  [37.0480176   5.26580281] , MSE =  74.78 , weight_dist =  0.07496715994225459\n",
      "Iteration #  190 : W_new =  [37.74965389  5.13857189] , MSE =  69.62 , weight_dist =  0.06840408111288647\n",
      "Iteration #  200 : W_new =  [38.38986469  5.02247953] , MSE =  65.33 , weight_dist =  0.06241557391934305\n",
      "Iteration #  210 : W_new =  [38.97402756  4.9165506 ] , MSE =  61.75 , weight_dist =  0.05695133688370928\n",
      "Iteration #  220 : W_new =  [39.50704928  4.81989533] , MSE =  58.77 , weight_dist =  0.05196547222385473\n",
      "Iteration #  230 : W_new =  [39.99340705  4.73170185] , MSE =  56.29 , weight_dist =  0.047416100327241924\n",
      "Iteration #  240 : W_new =  [40.43718613  4.65122936] , MSE =  54.23 , weight_dist =  0.04326500797602368\n",
      "Iteration #  250 : W_new =  [40.84211409  4.57780191] , MSE =  52.51 , weight_dist =  0.03947732736869619\n",
      "Iteration #  260 : W_new =  [41.21159221  4.51080275] , MSE =  51.08 , weight_dist =  0.03602124324208396\n",
      "Iteration #  270 : W_new =  [41.54872398  4.4496691 ] , MSE =  49.89 , weight_dist =  0.032867725633688775\n",
      "Iteration #  280 : W_new =  [41.8563412   4.39388747] , MSE =  48.9 , weight_dist =  0.029990286039577277\n",
      "Iteration #  290 : W_new =  [42.13702774  4.34298929] , MSE =  48.07 , weight_dist =  0.02736475491975342\n",
      "Iteration #  300 : W_new =  [42.39314129  4.29654705] , MSE =  47.39 , weight_dist =  0.024969078682016872\n",
      "Iteration #  310 : W_new =  [42.6268331   4.25417064] , MSE =  46.81 , weight_dist =  0.022783134439054022\n",
      "Iteration #  320 : W_new =  [42.84006612  4.21550412] , MSE =  46.34 , weight_dist =  0.02078856098291259\n",
      "Iteration #  330 : W_new =  [43.03463143  4.1802227 ] , MSE =  45.94 , weight_dist =  0.01896860455685692\n",
      "Iteration #  340 : W_new =  [43.21216332  4.14803003] , MSE =  45.61 , weight_dist =  0.017307978129422683\n",
      "Iteration #  350 : W_new =  [43.37415299  4.1186557 ] , MSE =  45.34 , weight_dist =  0.01579273298838249\n",
      "Iteration #  360 : W_new =  [43.5219611   4.09185298] , MSE =  45.11 , weight_dist =  0.014410141576169861\n",
      "Iteration #  370 : W_new =  [43.6568292   4.06739673] , MSE =  44.92 , weight_dist =  0.01314859058264465\n",
      "Iteration #  380 : W_new =  [43.77989013  4.04508153] , MSE =  44.76 , weight_dist =  0.011997483397109501\n",
      "Iteration #  390 : W_new =  [43.89217756  4.02471993] , MSE =  44.63 , weight_dist =  0.010947151100276697\n",
      "Iteration #  400 : W_new =  [43.99463466  4.00614091] , MSE =  44.52 , weight_dist =  0.00998877124856895\n",
      "Iteration #  410 : W_new =  [44.08812206  3.98918842] , MSE =  44.42 , weight_dist =  0.00911429376852329\n",
      "Iteration #  420 : W_new =  [44.173425    3.97372004] , MSE =  44.35 , weight_dist =  0.008316373338794439\n",
      "Iteration #  430 : W_new =  [44.25126001  3.95960587] , MSE =  44.28 , weight_dist =  0.0075883076919271795\n",
      "Iteration #  440 : W_new =  [44.32228086  3.94672733] , MSE =  44.23 , weight_dist =  0.0069239813175280465\n",
      "Iteration #  450 : W_new =  [44.38708413  3.93497626] , MSE =  44.19 , weight_dist =  0.006317814093971148\n",
      "Iteration #  460 : W_new =  [44.44621412  3.92425394] , MSE =  44.15 , weight_dist =  0.00576471441726071\n",
      "Iteration #  470 : W_new =  [44.50016751  3.91447033] , MSE =  44.12 , weight_dist =  0.005260036433216517\n",
      "Iteration #  480 : W_new =  [44.5493975   3.90554323] , MSE =  44.1 , weight_dist =  0.004799541013843858\n",
      "Iteration #  490 : W_new =  [44.5943176   3.89739766] , MSE =  44.07 , weight_dist =  0.004379360150081056\n",
      "Iteration #  500 : W_new =  [44.63530512  3.8899652 ] , MSE =  44.06 , weight_dist =  0.0039959644617626805\n",
      "Iteration #  510 : W_new =  [44.67270435  3.88318343] , MSE =  44.04 , weight_dist =  0.003646133552043072\n",
      "Iteration #  520 : W_new =  [44.70682942  3.87699538] , MSE =  44.03 , weight_dist =  0.0033269289570874764\n",
      "Iteration #  530 : W_new =  [44.73796697  3.87134906] , MSE =  44.02 , weight_dist =  0.0030356694639730474\n",
      "Iteration #  540 : W_new =  [44.76637856  3.86619706] , MSE =  44.01 , weight_dist =  0.0027699085893785986\n",
      "Iteration #  550 : W_new =  [44.79230282  3.86149609] , MSE =  44.0 , weight_dist =  0.0025274140299422774\n",
      "Iteration #  560 : W_new =  [44.81595752  3.85720668] , MSE =  44.0 , weight_dist =  0.0023061489116482322\n",
      "Iteration #  570 : W_new =  [44.83754134  3.85329279] , MSE =  43.99 , weight_dist =  0.0021042546807460614\n",
      "Iteration #  580 : W_new =  [44.85723558  3.84972154] , MSE =  43.99 , weight_dist =  0.0019200354925416154\n",
      "Iteration #  590 : W_new =  [44.87520567  3.84646294] , MSE =  43.99 , weight_dist =  0.0017519439668267306\n",
      "Iteration #  600 : W_new =  [44.89160255  3.84348962] , MSE =  43.98 , weight_dist =  0.0015985681904560113\n",
      "Iteration #  610 : W_new =  [44.90656394  3.8407766 ] , MSE =  43.98 , weight_dist =  0.0014586198576576914\n",
      "Iteration #  620 : W_new =  [44.92021553  3.83830109] , MSE =  43.98 , weight_dist =  0.0013309234487917587\n",
      "Iteration #  630 : W_new =  [44.93267197  3.83604231] , MSE =  43.98 , weight_dist =  0.001214406356281061\n",
      "Iteration #  640 : W_new =  [44.94403791  3.83398127] , MSE =  43.98 , weight_dist =  0.0011080898751240815\n",
      "Iteration #  650 : W_new =  [44.95440879  3.83210067] , MSE =  43.97 , weight_dist =  0.0010110809820831604\n",
      "Iteration #  660 : W_new =  [44.96387175  3.83038471] , MSE =  43.97 , weight_dist =  0.0009225648345707216\n",
      "Iteration #  670 : W_new =  [44.97250627  3.82881898] , MSE =  43.97 , weight_dist =  0.0008417979262393456\n",
      "Iteration #  680 : W_new =  [44.98038486  3.82739031] , MSE =  43.97 , weight_dist =  0.0007681018418171992\n",
      "Iteration #  690 : W_new =  [44.98757372  3.82608673] , MSE =  43.97 , weight_dist =  0.000700857558576888\n",
      "Iteration #  700 : W_new =  [44.99413322  3.82489726] , MSE =  43.97 , weight_dist =  0.0006395002468072415\n",
      "Iteration #  710 : W_new =  [45.00011846  3.82381193] , MSE =  43.97 , weight_dist =  0.0005835145253963287\n",
      "Iteration #  720 : W_new =  [45.00557972  3.82282162] , MSE =  43.97 , weight_dist =  0.0005324301328324169\n",
      "Iteration #  730 : W_new =  [45.01056286  3.821918  ] , MSE =  43.97 , weight_dist =  0.00048581797711554563\n",
      "Iteration #  740 : W_new =  [45.01510975  3.82109349] , MSE =  43.97 , weight_dist =  0.00044328653156860775\n",
      "Iteration #  750 : W_new =  [45.01925858  3.82034116] , MSE =  43.97 , weight_dist =  0.00040447854613899725\n",
      "Iteration #  760 : W_new =  [45.0230442  3.8196547] , MSE =  43.97 , weight_dist =  0.00036906804659503974\n",
      "Iteration #  770 : W_new =  [45.0264984   3.81902834] , MSE =  43.97 , weight_dist =  0.00033675759645901946\n",
      "Iteration #  780 : W_new =  [45.0296502   3.81845681] , MSE =  43.97 , weight_dist =  0.00030727579864609877\n",
      "Iteration #  790 : W_new =  [45.03252607  3.81793531] , MSE =  43.97 , weight_dist =  0.00028037501582056277\n",
      "Iteration #  800 : W_new =  [45.03515017  3.81745947] , MSE =  43.97 , weight_dist =  0.0002558292903013498\n",
      "Iteration #  810 : W_new =  [45.03754454  3.81702529] , MSE =  43.97 , weight_dist =  0.0002334324461348587\n",
      "Iteration #  820 : W_new =  [45.03972929  3.81662912] , MSE =  43.97 , weight_dist =  0.00021299635723332915\n",
      "Iteration #  830 : W_new =  [45.04172277  3.81626763] , MSE =  43.97 , weight_dist =  0.0001943493672155462\n",
      "Iteration #  840 : W_new =  [45.04354174  3.81593779] , MSE =  43.97 , weight_dist =  0.0001773348475434583\n",
      "Iteration #  850 : W_new =  [45.04520146  3.81563682] , MSE =  43.97 , weight_dist =  0.00016180988188760646\n",
      "Iteration #  860 : W_new =  [45.04671588  3.81536221] , MSE =  43.97 , weight_dist =  0.0001476440656651506\n",
      "Iteration #  870 : W_new =  [45.04809772  3.81511163] , MSE =  43.97 , weight_dist =  0.00013471841072566505\n",
      "Iteration #  880 : W_new =  [45.04935858  3.81488299] , MSE =  43.97 , weight_dist =  0.00012292434583105726\n",
      "Iteration #  890 : W_new =  [45.05050906  3.81467437] , MSE =  43.97 , weight_dist =  0.00011216280474012517\n",
      "Iteration #  900 : W_new =  [45.05155882  3.81448401] , MSE =  43.97 , weight_dist =  0.00010234339408359224\n",
      "Iteration #  910 : W_new =  [45.05251668  3.81431032] , MSE =  43.97 , weight_dist =  9.338363405938305e-05\n",
      "Iteration #  920 : W_new =  [45.05339068  3.81415184] , MSE =  43.97 , weight_dist =  8.520826564210892e-05\n",
      "Iteration #  930 : W_new =  [45.05418816  3.81400722] , MSE =  43.97 , weight_dist =  7.774861844416695e-05\n",
      "Iteration #  940 : W_new =  [45.05491583  3.81387527] , MSE =  43.97 , weight_dist =  7.09420339067708e-05\n",
      "Iteration #  950 : W_new =  [45.05557979  3.81375487] , MSE =  43.97 , weight_dist =  6.473133896872958e-05\n",
      "Iteration #  960 : W_new =  [45.05618563  3.81364501] , MSE =  43.97 , weight_dist =  5.9064365849517147e-05\n",
      "Iteration #  970 : W_new =  [45.05673843  3.81354477] , MSE =  43.97 , weight_dist =  5.389351384564285e-05\n",
      "Iteration #  980 : W_new =  [45.05724283  3.81345331] , MSE =  43.97 , weight_dist =  4.917534951653446e-05\n",
      "Iteration #  990 : W_new =  [45.05770308  3.81336985] , MSE =  43.97 , weight_dist =  4.4870241849452854e-05\n",
      "Iteration #  1000 : W_new =  [45.05812303  3.8132937 ] , MSE =  43.97 , weight_dist =  4.0942029350512616e-05\n",
      "Iteration #  1010 : W_new =  [45.05850621  3.81322421] , MSE =  43.97 , weight_dist =  3.735771635207679e-05\n",
      "Iteration #  1020 : W_new =  [45.05885585  3.81316081] , MSE =  43.97 , weight_dist =  3.408719580247387e-05\n",
      "Iteration #  1030 : W_new =  [45.05917489  3.81310296] , MSE =  43.97 , weight_dist =  3.1102996411487026e-05\n",
      "Iteration #  1040 : W_new =  [45.05946599  3.81305017] , MSE =  43.97 , weight_dist =  2.8380051892625047e-05\n",
      "Iteration #  1050 : W_new =  [45.0597316   3.81300201] , MSE =  43.97 , weight_dist =  2.5895490413454544e-05\n",
      "Iteration #  1060 : W_new =  [45.05997396  3.81295806] , MSE =  43.97 , weight_dist =  2.3628442478500856e-05\n",
      "Iteration #  1070 : W_new =  [45.06019511  3.81291796] , MSE =  43.97 , weight_dist =  2.155986563999295e-05\n",
      "Iteration #  1080 : W_new =  [45.06039689  3.81288137] , MSE =  43.97 , weight_dist =  1.967238453867739e-05\n",
      "Iteration #  1090 : W_new =  [45.06058101  3.81284798] , MSE =  43.97 , weight_dist =  1.7950144954149615e-05\n",
      "Iteration #  1100 : W_new =  [45.06074901  3.81281751] , MSE =  43.97 , weight_dist =  1.6378680643773393e-05\n",
      "Iteration #  1110 : W_new =  [45.0609023   3.81278972] , MSE =  43.97 , weight_dist =  1.494479182988939e-05\n",
      "Iteration #  1120 : W_new =  [45.06104218  3.81276435] , MSE =  43.97 , weight_dist =  1.3636434317036816e-05\n",
      "Iteration #  1130 : W_new =  [45.0611698   3.81274121] , MSE =  43.97 , weight_dist =  1.24426183349936e-05\n",
      "Iteration #  1140 : W_new =  [45.06128626  3.81272009] , MSE =  43.97 , weight_dist =  1.1353316237269506e-05\n",
      "Iteration #  1150 : W_new =  [45.06139251  3.81270083] , MSE =  43.97 , weight_dist =  1.0359378227842321e-05\n",
      "Iteration #  1160 : W_new =  [45.06148947  3.81268324] , MSE =  43.97 , weight_dist =  9.452455569576477e-06\n",
      "Iteration #  1170 : W_new =  [45.06157794  3.8126672 ] , MSE =  43.97 , weight_dist =  8.624930408493688e-06\n",
      "Iteration #  1180 : W_new =  [45.06165866  3.81265256] , MSE =  43.97 , weight_dist =  7.869851813441459e-06\n",
      "Iteration #  1190 : W_new =  [45.06173232  3.81263921] , MSE =  43.97 , weight_dist =  7.180877357168763e-06\n",
      "Iteration #  1200 : W_new =  [45.06179952  3.81262702] , MSE =  43.97 , weight_dist =  6.552219900881267e-06\n",
      "Iteration #  1210 : W_new =  [45.06186085  3.8126159 ] , MSE =  43.97 , weight_dist =  5.978598924249102e-06\n",
      "Iteration #  1220 : W_new =  [45.0619168   3.81260575] , MSE =  43.97 , weight_dist =  5.45519619314299e-06\n",
      "Iteration #  1230 : W_new =  [45.06196786  3.8125965 ] , MSE =  43.97 , weight_dist =  4.977615305525251e-06\n",
      "Iteration #  1240 : W_new =  [45.06201445  3.81258805] , MSE =  43.97 , weight_dist =  4.5418447405322894e-06\n",
      "Iteration #  1250 : W_new =  [45.06205696  3.81258034] , MSE =  43.97 , weight_dist =  4.144224170999053e-06\n",
      "Iteration #  1260 : W_new =  [45.06209574  3.81257331] , MSE =  43.97 , weight_dist =  3.7814137079160155e-06\n",
      "Iteration #  1270 : W_new =  [45.06213113  3.81256689] , MSE =  43.97 , weight_dist =  3.4503658675703793e-06\n",
      "Iteration #  1280 : W_new =  [45.06216343  3.81256103] , MSE =  43.97 , weight_dist =  3.1482999635513206e-06\n",
      "Iteration #  1290 : W_new =  [45.06219289  3.81255569] , MSE =  43.97 , weight_dist =  2.87267873366265e-06\n",
      "Iteration #  1300 : W_new =  [45.06221978  3.81255081] , MSE =  43.97 , weight_dist =  2.621187056465945e-06\n",
      "Iteration #  1310 : W_new =  [45.06224431  3.81254637] , MSE =  43.97 , weight_dist =  2.391712477163856e-06\n",
      "Iteration #  1320 : W_new =  [45.06226669  3.81254231] , MSE =  43.97 , weight_dist =  2.1823274923175637e-06\n",
      "Iteration #  1330 : W_new =  [45.06228712  3.8125386 ] , MSE =  43.97 , weight_dist =  1.9912733390135803e-06\n",
      "Iteration #  1340 : W_new =  [45.06230576  3.81253522] , MSE =  43.97 , weight_dist =  1.8169452198521627e-06\n",
      "Iteration #  1350 : W_new =  [45.06232276  3.81253214] , MSE =  43.97 , weight_dist =  1.6578788419716112e-06\n",
      "Iteration #  1360 : W_new =  [45.06233828  3.81252933] , MSE =  43.97 , weight_dist =  1.5127380982735405e-06\n",
      "Iteration #  1370 : W_new =  [45.06235244  3.81252676] , MSE =  43.97 , weight_dist =  1.3803038520887114e-06\n",
      "Iteration #  1380 : W_new =  [45.06236536  3.81252442] , MSE =  43.97 , weight_dist =  1.2594636980117865e-06\n",
      "Iteration #  1390 : W_new =  [45.06237714  3.81252228] , MSE =  43.97 , weight_dist =  1.1492026236028086e-06\n",
      "Iteration #  1400 : W_new =  [45.0623879   3.81252033] , MSE =  43.97 , weight_dist =  1.048594475264218e-06\n",
      "Iteration #  1410 : W_new =  [45.06239771  3.81251855] , MSE =  43.97 , weight_dist =  9.56794165468532e-07\n",
      "Iteration #  1420 : W_new =  [45.06240667  3.81251692] , MSE =  43.97 , weight_dist =  8.730306175939853e-07\n",
      "Iteration #  1430 : W_new =  [45.06241484  3.81251544] , MSE =  43.97 , weight_dist =  7.966002317322319e-07\n",
      "Iteration #  1440 : W_new =  [45.06242229  3.81251409] , MSE =  43.97 , weight_dist =  7.26861026071508e-07\n",
      "Iteration #  1450 : W_new =  [45.0624291   3.81251286] , MSE =  43.97 , weight_dist =  6.632272159888241e-07\n",
      "Iteration #  1460 : W_new =  [45.0624353   3.81251173] , MSE =  43.97 , weight_dist =  6.051642880688537e-07\n",
      "Iteration #  1470 : W_new =  [45.06244097  3.8125107 ] , MSE =  43.97 , weight_dist =  5.52184544015624e-07\n",
      "Iteration #  1480 : W_new =  [45.06244614  3.81250977] , MSE =  43.97 , weight_dist =  5.03842970904686e-07\n",
      "Iteration #  1490 : W_new =  [45.06245085  3.81250891] , MSE =  43.97 , weight_dist =  4.597335079275767e-07\n",
      "Iteration #  1500 : W_new =  [45.06245515  3.81250813] , MSE =  43.97 , weight_dist =  4.194856516371388e-07\n",
      "Iteration #  1510 : W_new =  [45.06245908  3.81250742] , MSE =  43.97 , weight_dist =  3.8276134352470723e-07\n",
      "Iteration #  1520 : W_new =  [45.06246266  3.81250677] , MSE =  43.97 , weight_dist =  3.492520971883315e-07\n",
      "Iteration #  1530 : W_new =  [45.06246593  3.81250618] , MSE =  43.97 , weight_dist =  3.186764548710605e-07\n",
      "Iteration #  1540 : W_new =  [45.06246891  3.81250564] , MSE =  43.97 , weight_dist =  2.907775908002513e-07\n",
      "Iteration #  1550 : W_new =  [45.06247164  3.81250514] , MSE =  43.97 , weight_dist =  2.6532115952459495e-07\n",
      "Iteration #  1560 : W_new =  [45.06247412  3.81250469] , MSE =  43.97 , weight_dist =  2.4209333824883605e-07\n",
      "Iteration #  1570 : W_new =  [45.06247638  3.81250428] , MSE =  43.97 , weight_dist =  2.2089902145543286e-07\n",
      "Iteration #  1580 : W_new =  [45.06247845  3.81250391] , MSE =  43.97 , weight_dist =  2.0156018950051842e-07\n",
      "Iteration #  1590 : W_new =  [45.06248034  3.81250357] , MSE =  43.97 , weight_dist =  1.839143854881893e-07\n",
      "Iteration #  1600 : W_new =  [45.06248206  3.81250325] , MSE =  43.97 , weight_dist =  1.6781341284034574e-07\n",
      "Iteration #  1610 : W_new =  [45.06248363  3.81250297] , MSE =  43.97 , weight_dist =  1.5312200997202784e-07\n",
      "Iteration #  1620 : W_new =  [45.06248506  3.81250271] , MSE =  43.97 , weight_dist =  1.3971677911386124e-07\n",
      "Iteration #  1630 : W_new =  [45.06248637  3.81250247] , MSE =  43.97 , weight_dist =  1.2748512585003032e-07\n",
      "Iteration #  1640 : W_new =  [45.06248756  3.81250226] , MSE =  43.97 , weight_dist =  1.1632431186583982e-07\n",
      "Iteration #  1650 : W_new =  [45.06248865  3.81250206] , MSE =  43.97 , weight_dist =  1.0614057679842032e-07\n",
      "Iteration #  1660 : W_new =  [45.06248965  3.81250188] , MSE =  43.97 , weight_dist =  9.684839086408281e-08\n",
      "Iteration #  1670 : W_new =  [45.06249055  3.81250171] , MSE =  43.97 , weight_dist =  8.83696923749451e-08\n",
      "Iteration #  1680 : W_new =  [45.06249138  3.81250156] , MSE =  43.97 , weight_dist =  8.063327859116962e-08\n",
      "Iteration #  1690 : W_new =  [45.06249213  3.81250143] , MSE =  43.97 , weight_dist =  7.35741510404985e-08\n",
      "Iteration #  1700 : W_new =  [45.06249282  3.8125013 ] , MSE =  43.97 , weight_dist =  6.713302274954119e-08\n",
      "Iteration #  1710 : W_new =  [45.06249345  3.81250119] , MSE =  43.97 , weight_dist =  6.125579138961142e-08\n",
      "Iteration #  1720 : W_new =  [45.06249402  3.81250108] , MSE =  43.97 , weight_dist =  5.589309241830417e-08\n",
      "Iteration #  1730 : W_new =  [45.06249455  3.81250099] , MSE =  43.97 , weight_dist =  5.0999872006755934e-08\n",
      "Iteration #  1740 : W_new =  [45.06249503  3.8125009 ] , MSE =  43.97 , weight_dist =  4.65350338428365e-08\n",
      "Iteration #  1750 : W_new =  [45.06249546  3.81250082] , MSE =  43.97 , weight_dist =  4.246107767514557e-08\n",
      "Iteration #  1760 : W_new =  [45.06249586  3.81250075] , MSE =  43.97 , weight_dist =  3.874377455726549e-08\n",
      "Iteration #  1770 : W_new =  [45.06249622  3.81250069] , MSE =  43.97 , weight_dist =  3.535191359084936e-08\n",
      "Iteration #  1780 : W_new =  [45.06249655  3.81250063] , MSE =  43.97 , weight_dist =  3.2256992816661866e-08\n",
      "Iteration #  1790 : W_new =  [45.06249685  3.81250057] , MSE =  43.97 , weight_dist =  2.9433015531432912e-08\n",
      "Iteration #  1800 : W_new =  [45.06249713  3.81250052] , MSE =  43.97 , weight_dist =  2.685627388967484e-08\n",
      "Iteration #  1810 : W_new =  [45.06249738  3.81250048] , MSE =  43.97 , weight_dist =  2.450511129355858e-08\n",
      "Iteration #  1820 : W_new =  [45.06249761  3.81250043] , MSE =  43.97 , weight_dist =  2.235978480192285e-08\n",
      "Iteration #  1830 : W_new =  [45.06249782  3.8125004 ] , MSE =  43.97 , weight_dist =  2.040227701467928e-08\n",
      "Iteration #  1840 : W_new =  [45.06249801  3.81250036] , MSE =  43.97 , weight_dist =  1.8616138062246007e-08\n",
      "Iteration #  1850 : W_new =  [45.06249818  3.81250033] , MSE =  43.97 , weight_dist =  1.6986369305734212e-08\n",
      "Iteration #  1860 : W_new =  [45.06249834  3.8125003 ] , MSE =  43.97 , weight_dist =  1.5499278992256463e-08\n",
      "Iteration #  1870 : W_new =  [45.06249849  3.81250027] , MSE =  43.97 , weight_dist =  1.414238152266498e-08\n",
      "Iteration #  1880 : W_new =  [45.06249862  3.81250025] , MSE =  43.97 , weight_dist =  1.2904267485863462e-08\n",
      "Iteration #  1890 : W_new =  [45.06249874  3.81250023] , MSE =  43.97 , weight_dist =  1.177455218336482e-08\n",
      "Iteration #  1900 : W_new =  [45.06249885  3.81250021] , MSE =  43.97 , weight_dist =  1.0743732948566614e-08\n"
     ]
    }
   ],
   "source": [
    "n = X.shape[0]\n",
    "\n",
    "eta = 1e-2 #шаг градиентного спуска (скорость обучения)\n",
    "iter_num = 0 #счетчик итераций\n",
    "\n",
    "min_weight_dist = 1e-8 #критерий сходимости (разница весов, при которой алгоритм останавливается)\n",
    "\n",
    "W = np.array([1, 0.5]) #инициализируем веса маленькими величинами\n",
    "\n",
    "print(f'Number of objects = {n} \\\n",
    "       \\nLearning rate = {eta} \\\n",
    "       \\nInitial weights = {W} \\n')\n",
    "\n",
    "weight_dist = np.inf #задаем начальную разницу весов большим числом\n",
    "\n",
    "while weight_dist > min_weight_dist: #сравниваем текущую разницу с условием ограничения\n",
    "    y_pred = np.dot(X, W)\n",
    "    err = calc_mse(y, y_pred)\n",
    "    W_new = W - eta * (1/n * 2 * np.dot(X.T, y_pred - y)) #умножаем скорость обучения на градиент - оптимизация веса\n",
    "    \n",
    "    weight_dist = np.linalg.norm(W_new - W, ord=2) #находим растояние между весами (векторами)\n",
    "    W = W_new.copy()\n",
    "    \n",
    "    if iter_num % 10 == 0:\n",
    "        print(f'Iteration # ', iter_num, ': W_new = ', W, ', MSE = ', round(err,2), ', weight_dist = ', weight_dist)\n",
    "    iter_num += 1"
   ]
  },
  {
   "cell_type": "code",
   "execution_count": null,
   "metadata": {},
   "outputs": [],
   "source": []
  }
 ],
 "metadata": {
  "kernelspec": {
   "display_name": "Python 3",
   "language": "python",
   "name": "python3"
  },
  "language_info": {
   "codemirror_mode": {
    "name": "ipython",
    "version": 3
   },
   "file_extension": ".py",
   "mimetype": "text/x-python",
   "name": "python",
   "nbconvert_exporter": "python",
   "pygments_lexer": "ipython3",
   "version": "3.8.3"
  }
 },
 "nbformat": 4,
 "nbformat_minor": 4
}
