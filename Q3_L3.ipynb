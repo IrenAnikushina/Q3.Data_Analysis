{
 "cells": [
  {
   "cell_type": "code",
   "execution_count": 186,
   "metadata": {
    "colab": {},
    "colab_type": "code",
    "id": "_u5bV-OlT34p"
   },
   "outputs": [],
   "source": [
    "import numpy as np\n",
    "import matplotlib.pyplot as plt\n",
    "from tqdm import tqdm\n",
    "import warnings\n",
    "warnings.filterwarnings('ignore')"
   ]
  },
  {
   "cell_type": "markdown",
   "metadata": {},
   "source": [
    "## 1. *Измените функцию calc_logloss так, чтобы нули по возможности не попадали в np.log.**"
   ]
  },
  {
   "cell_type": "code",
   "execution_count": 187,
   "metadata": {},
   "outputs": [],
   "source": [
    "# возвращаемся к задаче про репетиторов"
   ]
  },
  {
   "cell_type": "code",
   "execution_count": 188,
   "metadata": {
    "colab": {},
    "colab_type": "code",
    "id": "_n6il-AZaLuA"
   },
   "outputs": [],
   "source": [
    "X = np.array([ [   1,    1,  500,    1],\n",
    "               [   1,    1,  700,    1],\n",
    "               [   1,    2,  750,    2],\n",
    "               [   1,    5,  600,    1],\n",
    "               [   1,    3, 1450,    2],\n",
    "               [   1,    0,  800,    1],\n",
    "               [   1,    5, 1500,    3],\n",
    "               [   1,   10, 2000,    3],\n",
    "               [   1,    1,  450,    1],\n",
    "               [   1,    2, 1000,    2]], dtype = np.float64)\n",
    "\n",
    "y = np.array([0, 0, 1, 0, 1, 0, 1, 0, 1, 1])"
   ]
  },
  {
   "cell_type": "code",
   "execution_count": 189,
   "metadata": {},
   "outputs": [],
   "source": [
    "def standard_scale(X):\n",
    "    mean = X.mean(axis=0)\n",
    "    std = X.std(axis=0)\n",
    "    return (X - mean) / std"
   ]
  },
  {
   "cell_type": "code",
   "execution_count": 190,
   "metadata": {},
   "outputs": [
    {
     "data": {
      "text/plain": [
       "array([[ 1.        , -0.70710678, -0.97958969, -0.89625816],\n",
       "       [ 1.        , -0.70710678, -0.56713087, -0.89625816],\n",
       "       [ 1.        , -0.35355339, -0.46401617,  0.38411064],\n",
       "       [ 1.        ,  0.70710678, -0.77336028, -0.89625816],\n",
       "       [ 1.        ,  0.        ,  0.97958969,  0.38411064],\n",
       "       [ 1.        , -1.06066017, -0.36090146, -0.89625816],\n",
       "       [ 1.        ,  0.70710678,  1.08270439,  1.66447944],\n",
       "       [ 1.        ,  2.47487373,  2.11385144,  1.66447944],\n",
       "       [ 1.        , -0.70710678, -1.08270439, -0.89625816],\n",
       "       [ 1.        , -0.35355339,  0.05155735,  0.38411064]])"
      ]
     },
     "execution_count": 190,
     "metadata": {},
     "output_type": "execute_result"
    }
   ],
   "source": [
    "X_st = X.copy()\n",
    "X_st[:, 1:4] = standard_scale(X_st[:, 1:4])\n",
    "X_st"
   ]
  },
  {
   "cell_type": "code",
   "execution_count": 191,
   "metadata": {},
   "outputs": [],
   "source": [
    "def calc_logloss(y, y_pred):\n",
    "    err = 0\n",
    "    for i in range(len(y)):  # для каждого элемента из массива У делаем проверку и выщитываем ошибку для каждого элемента, и сумму\n",
    "        if y_pred[i] == 0:\n",
    "            err += (1.0 - y[i]) * np.log(1.0 - y_pred[i])\n",
    "        elif y_pred[i] == 1:\n",
    "            err += y[i] * np.log(y_pred[i])\n",
    "        else:\n",
    "            err += y[i] * np.log(y_pred[i]) + (1.0 - y[i]) * np.log(1.0 - y_pred[i])\n",
    "    return - err / len(y) #заменяет - np.mean"
   ]
  },
  {
   "cell_type": "code",
   "execution_count": 192,
   "metadata": {},
   "outputs": [
    {
     "data": {
      "text/plain": [
       "0.05268025782891314"
      ]
     },
     "execution_count": 192,
     "metadata": {},
     "output_type": "execute_result"
    }
   ],
   "source": [
    "#проверяем все спорные случаи и убеждаемся, что сообщения об ошибке нет\n",
    "y1 = np.array([1, 0])\n",
    "y_pred1 = np.array([0.9, 0])\n",
    "calc_logloss(y1, y_pred1)"
   ]
  },
  {
   "cell_type": "code",
   "execution_count": 193,
   "metadata": {},
   "outputs": [
    {
     "data": {
      "text/plain": [
       "0.05268025782891314"
      ]
     },
     "execution_count": 193,
     "metadata": {},
     "output_type": "execute_result"
    }
   ],
   "source": [
    "y1 = np.array([1, 0])\n",
    "y_pred1 = np.array([1, 0.1])\n",
    "calc_logloss(y1, y_pred1)"
   ]
  },
  {
   "cell_type": "code",
   "execution_count": 194,
   "metadata": {},
   "outputs": [
    {
     "data": {
      "text/plain": [
       "0.10536051565782628"
      ]
     },
     "execution_count": 194,
     "metadata": {},
     "output_type": "execute_result"
    }
   ],
   "source": [
    "y1 = np.array([1, 0])\n",
    "y_pred1 = np.array([0.9, 0.1])\n",
    "calc_logloss(y1, y_pred1)"
   ]
  },
  {
   "cell_type": "markdown",
   "metadata": {},
   "source": [
    "## 2. Подберите аргументы функции eval_model для логистической регрессии таким образом, чтобы log loss был минимальным"
   ]
  },
  {
   "cell_type": "code",
   "execution_count": 195,
   "metadata": {},
   "outputs": [],
   "source": [
    "def sigmoid(z):\n",
    "    res = 1 / (1 + np.exp(-z))\n",
    "    return res"
   ]
  },
  {
   "cell_type": "code",
   "execution_count": 196,
   "metadata": {},
   "outputs": [],
   "source": [
    "z = np.linspace(-10, 10, 101)"
   ]
  },
  {
   "cell_type": "code",
   "execution_count": 197,
   "metadata": {},
   "outputs": [
    {
     "data": {
      "image/png": "[encoded data removed]",
      "text/plain": [
       "<Figure size 432x288 with 1 Axes>"
      ]
     },
     "metadata": {
      "needs_background": "light"
     },
     "output_type": "display_data"
    }
   ],
   "source": [
    "probabilities = sigmoid(z)\n",
    "\n",
    "plt.plot(z, probabilities)\n",
    "plt.show()"
   ]
  },
  {
   "cell_type": "code",
   "execution_count": 198,
   "metadata": {},
   "outputs": [],
   "source": [
    "def eval_model(X, y, iterations, eta=1e-4):\n",
    "    np.random.seed(42)\n",
    "    W = np.random.randn(X.shape[1])\n",
    "    n = X.shape[0]\n",
    "    \n",
    "    for i in range(iterations):\n",
    "        z = np.dot(X, W)\n",
    "        y_pred = sigmoid(z)\n",
    "        err = calc_logloss(y, y_pred)\n",
    "        \n",
    "        dQ = 1/n * X.T @ (y_pred - y)\n",
    "        W -= eta * dQ\n",
    "        if i % (iterations / 10) == 0:\n",
    "            continue\n",
    "            \n",
    "    final_error = calc_logloss(y, y_pred) \n",
    "    print (final_error) #cделала вывод аргументов функции eval_model и ошибки, чтоб сравнить и отследить\n",
    "    return W, final_error"
   ]
  },
  {
   "cell_type": "code",
   "execution_count": 199,
   "metadata": {},
   "outputs": [
    {
     "name": "stdout",
     "output_type": "stream",
     "text": [
      "0.1 10\n",
      "0.6471695818389295\n",
      "0.1 100\n",
      "0.42694233400122894\n",
      "0.1 1000\n",
      "0.28444349877126673\n",
      "0.1 10000\n",
      "0.16699984940328444\n",
      "0.5 10\n",
      "0.47238920217428076\n",
      "0.5 100\n",
      "0.3230665388766182\n",
      "0.5 1000\n",
      "0.20436456104822748\n",
      "0.5 10000\n",
      "0.09944286508202023\n",
      "0.01 10\n",
      "0.7481074868242497\n",
      "0.01 100\n",
      "0.638428816819786\n",
      "0.01 1000\n",
      "0.4264848056300794\n",
      "0.01 10000\n",
      "0.28442840212636267\n",
      "0.05 10\n",
      "0.699954961620685\n",
      "0.05 100\n",
      "0.46782302750056626\n",
      "0.05 1000\n",
      "0.322786534142952\n",
      "0.05 10000\n",
      "0.2043674289448464\n",
      "0.001 10\n",
      "0.7596591304179555\n",
      "0.001 100\n",
      "0.7468503743478322\n",
      "0.001 1000\n",
      "0.6375783289684847\n",
      "0.001 10000\n",
      "0.426439271321205\n",
      "0.005 10\n",
      "0.7544927394500716\n",
      "0.005 100\n",
      "0.6945383737677024\n",
      "0.005 1000\n",
      "0.4673891750755401\n",
      "0.005 10000\n",
      "0.322758677384033\n",
      "Ошибка 0.09944286508202023 при параметрах {'iteration': 10000, 'eta': 0.5}\n"
     ]
    }
   ],
   "source": [
    "n = X.shape[0]\n",
    "\n",
    "etas = [1e-1, 5e-1, 1e-2, 5e-2, 1e-3, 5e-3]\n",
    "iterations = [10, 100, 1000, 10000]\n",
    "\n",
    "best_error = np.inf\n",
    "best_params = {}\n",
    "\n",
    "\n",
    "for eta in etas:\n",
    "    for iteration in iterations:\n",
    "        print (eta, iteration) #cделала вывод аргументов функции eval_model и ошибки, чтоб сравнить и отследить\n",
    "        W, error = eval_model(X_st, y, iterations=iteration, eta=eta)\n",
    "        if error < best_error:\n",
    "            best_error = error\n",
    "            best_params = {\n",
    "                'iteration': iteration,\n",
    "                'eta': eta\n",
    "            }\n",
    "\n",
    "print(f'Ошибка {best_error} при параметрах {best_params}')"
   ]
  },
  {
   "cell_type": "markdown",
   "metadata": {},
   "source": [
    "## 3. Создайте функцию calc_pred_proba, возвращающую предсказанную вероятность класса 1 (на вход подаются W, который уже посчитан функцией eval_model и X, на выходе - массив y_pred_proba)"
   ]
  },
  {
   "cell_type": "code",
   "execution_count": 200,
   "metadata": {},
   "outputs": [],
   "source": [
    "def calc_pred_proba(W, X):\n",
    "    y_pred_proba = sigmoid(np.dot(X, W))\n",
    "    return y_pred_proba"
   ]
  },
  {
   "cell_type": "code",
   "execution_count": 201,
   "metadata": {},
   "outputs": [
    {
     "data": {
      "text/plain": [
       "array([0.33133474, 0.26998385, 0.91660538, 0.01870344, 0.64456505,\n",
       "       0.41022263, 0.96117517, 0.19592658, 0.34773348, 0.88405523])"
      ]
     },
     "execution_count": 201,
     "metadata": {},
     "output_type": "execute_result"
    }
   ],
   "source": [
    "calc_pred_proba(W, X_st)"
   ]
  },
  {
   "cell_type": "markdown",
   "metadata": {},
   "source": [
    "## 4. Создайте функцию calc_pred, возвращающую предсказанный класс (на вход подаются W, который уже посчитан функцией eval_model и X, на выходе - массив y_pred)"
   ]
  },
  {
   "cell_type": "code",
   "execution_count": 202,
   "metadata": {},
   "outputs": [],
   "source": [
    "def calc_pred(W, X):\n",
    "    y_pred = []\n",
    "    y_pred_proba = calc_pred_proba(W, X)\n",
    "         \n",
    "    for pred in y_pred_proba:\n",
    "        if pred > 0.5: \n",
    "            y_pred.append(1)\n",
    "        else:\n",
    "            y_pred.append(0)\n",
    "    return y_pred"
   ]
  },
  {
   "cell_type": "code",
   "execution_count": 203,
   "metadata": {},
   "outputs": [
    {
     "data": {
      "text/plain": [
       "[0, 0, 1, 0, 1, 0, 1, 0, 0, 1]"
      ]
     },
     "execution_count": 203,
     "metadata": {},
     "output_type": "execute_result"
    }
   ],
   "source": [
    "pred = calc_pred(W, X_st)\n",
    "pred"
   ]
  },
  {
   "cell_type": "markdown",
   "metadata": {},
   "source": [
    "## 5. *Реализуйте функции для подсчета Accuracy, матрицы ошибок, точности и полноты, а также F1 score."
   ]
  },
  {
   "cell_type": "code",
   "execution_count": 204,
   "metadata": {},
   "outputs": [
    {
     "data": {
      "text/plain": [
       "numpy.ndarray"
      ]
     },
     "execution_count": 204,
     "metadata": {},
     "output_type": "execute_result"
    }
   ],
   "source": [
    "pred = np.array(pred) #решила на всякий случай поменять, т.к. у меня возвращался list в прошлой задаче\n",
    "type(pred)"
   ]
  },
  {
   "cell_type": "code",
   "execution_count": 205,
   "metadata": {},
   "outputs": [
    {
     "name": "stdout",
     "output_type": "stream",
     "text": [
      "True \t  [0 0 1 0 1 0 1 0 1 1]\n",
      "Predicted [0 0 1 0 1 0 1 0 0 1]\n"
     ]
    }
   ],
   "source": [
    "print(f'True \\t  {y}')\n",
    "print(f'Predicted {pred}')"
   ]
  },
  {
   "cell_type": "code",
   "execution_count": 226,
   "metadata": {},
   "outputs": [],
   "source": [
    "#Accuracy\n",
    "\n",
    "def accuracy(y, y_pred):\n",
    "    accuracy = np.mean(y == y_pred)\n",
    "    return accuracy"
   ]
  },
  {
   "cell_type": "code",
   "execution_count": 227,
   "metadata": {},
   "outputs": [],
   "source": [
    "#матрица ошибок\n",
    "#как я пояла, должна получиться матрица 2х2 - TP, FP / FN , TN\n",
    "\n",
    "def err_matrix(y, y_pred):\n",
    "    matrix = np.zeros((2, 2)) #создали сам каркас матрицы с нулями и будем прибавлять значения по условию\n",
    "    for i in range(len(y)): \n",
    "        if y[i] == y_pred[i] == 1: #True positive\n",
    "            matrix[0][0] += 1\n",
    "        elif y[i] == y_pred[i] == 0: #True negative\n",
    "            matrix[1][1] += 1\n",
    "        elif y[i] == 1 and y_pred[i] == 0: #False negative\n",
    "            matrix[1][0] += 1\n",
    "        elif y[i] == 0 and y_pred[i] == 1: #False positive\n",
    "            matrix[0][1] += 1\n",
    "    return matrix"
   ]
  },
  {
   "cell_type": "code",
   "execution_count": 228,
   "metadata": {},
   "outputs": [],
   "source": [
    "#Precision\n",
    "\n",
    "def precision(y, y_pred):\n",
    "    matrix = err_matrix(y, pred)\n",
    "    precision = matrix[0][0] / (matrix[0][0] + matrix[0][1]) #TP/(TP+FP)\n",
    "    return precision"
   ]
  },
  {
   "cell_type": "code",
   "execution_count": 229,
   "metadata": {},
   "outputs": [],
   "source": [
    "#Recall\n",
    "\n",
    "def recall(y, y_pred):\n",
    "    matrix = err_matrix(y, pred)\n",
    "    recall = matrix[0][0] / (matrix[0][0] + matrix[1][0]) #TP/(TP+FN)\n",
    "    return recall"
   ]
  },
  {
   "cell_type": "code",
   "execution_count": 232,
   "metadata": {},
   "outputs": [],
   "source": [
    "#F1-score\n",
    "\n",
    "def f1_score(y, y_pred):\n",
    "    prec = precision(y, y_pred)\n",
    "    rec = recall(y, y_pred)\n",
    "    f1_score = 2 * prec * rec / (prec + rec)\n",
    "    return f1_score"
   ]
  },
  {
   "cell_type": "code",
   "execution_count": 233,
   "metadata": {},
   "outputs": [
    {
     "name": "stdout",
     "output_type": "stream",
     "text": [
      "Метрика accuracy:  0.9\n",
      "Матрица ошибок:\n",
      " [[4. 0.]\n",
      " [1. 5.]]\n",
      "Рrecision:  1.0\n",
      "Recall:  0.8\n",
      "F1-score:  0.888888888888889\n"
     ]
    }
   ],
   "source": [
    "#а теперь дружно выводим все значения)))\n",
    "print(f'Метрика accuracy: ', accuracy(y, pred))\n",
    "print(f'Матрица ошибок:\\n', err_matrix(y, pred))\n",
    "print(f'Рrecision: ', precision(y, pred))\n",
    "print(f'Recall: ', recall(y, pred))\n",
    "print(f'F1-score: ', f1_score(y, pred))"
   ]
  },
  {
   "cell_type": "markdown",
   "metadata": {
    "id": "osNM_LLkiqu6"
   },
   "source": [
    "## 6. Могла ли модель переобучиться? Почему?"
   ]
  },
  {
   "cell_type": "markdown",
   "metadata": {},
   "source": [
    "Если в результате выбранных количества итераций и ETA с целью минимизации log loss он в итоге приблизился или равен 0, значит функция заучила выборку train и на test покажет плохой результат"
   ]
  }
 ],
 "metadata": {
  "kernelspec": {
   "display_name": "Python 3",
   "language": "python",
   "name": "python3"
  },
  "language_info": {
   "codemirror_mode": {
    "name": "ipython",
    "version": 3
   },
   "file_extension": ".py",
   "mimetype": "text/x-python",
   "name": "python",
   "nbconvert_exporter": "python",
   "pygments_lexer": "ipython3",
   "version": "3.8.3"
  }
 },
 "nbformat": 4,
 "nbformat_minor": 2
}
